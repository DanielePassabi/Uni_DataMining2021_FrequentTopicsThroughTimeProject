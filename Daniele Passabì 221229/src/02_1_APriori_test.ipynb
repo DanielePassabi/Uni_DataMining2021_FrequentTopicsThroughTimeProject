{
 "metadata": {
  "language_info": {
   "codemirror_mode": {
    "name": "ipython",
    "version": 3
   },
   "file_extension": ".py",
   "mimetype": "text/x-python",
   "name": "python",
   "nbconvert_exporter": "python",
   "pygments_lexer": "ipython3",
   "version": "3.8.5-final"
  },
  "orig_nbformat": 2,
  "kernelspec": {
   "name": "python3",
   "display_name": "Python 3",
   "language": "python"
  }
 },
 "nbformat": 4,
 "nbformat_minor": 2,
 "cells": [
  {
   "source": [
    "# APriori algorithm\n",
    "We have a clean dataset, we can now find frequent itemset in the data.\n",
    "\n",
    "The first algorithm that I'll use is APriori."
   ],
   "cell_type": "markdown",
   "metadata": {}
  },
  {
   "source": [
    "## Libraries"
   ],
   "cell_type": "markdown",
   "metadata": {}
  },
  {
   "cell_type": "code",
   "execution_count": 5,
   "metadata": {},
   "outputs": [
    {
     "output_type": "stream",
     "name": "stdout",
     "text": [
      "All libreries imported\n"
     ]
    }
   ],
   "source": [
    "import pandas as pd\n",
    "import math\n",
    "import plotly.express as px     # used to plot the data\n",
    "import ast                      # used to transform string into list\n",
    "from collections import Counter # used to count the occurrences of hashtags\n",
    "from statistics import mean\n",
    "import string                   # used to remove punctuation from text in an efficient way\n",
    "import re                       \n",
    "from tqdm import tqdm           # estimate of time in long for\n",
    "import datetime\n",
    "import time\n",
    "\n",
    "# ORIGINAL APRIORI\n",
    "from efficient_apriori import apriori as eff_apriori\n",
    "\n",
    "# BASELINE\n",
    "from mlxtend.frequent_patterns import apriori as mlxtend_apriori\n",
    "from mlxtend.preprocessing import TransactionEncoder\n",
    "\n",
    "print(\"All libreries imported\")"
   ]
  },
  {
   "source": [
    "## Import the clean dataset"
   ],
   "cell_type": "markdown",
   "metadata": {}
  },
  {
   "cell_type": "code",
   "execution_count": 6,
   "metadata": {},
   "outputs": [
    {
     "output_type": "execute_result",
     "data": {
      "text/plain": [
       "                     user_location        date  \\\n",
       "0                       astroworld  2020-07-25   \n",
       "1                     New York, NY  2020-07-25   \n",
       "2                 Pewee Valley, KY  2020-07-25   \n",
       "3             Stuck in the Middle   2020-07-25   \n",
       "4                Jammu and Kashmir  2020-07-25   \n",
       "...                            ...         ...   \n",
       "179103             Ilorin, Nigeria  2020-08-29   \n",
       "179104                     Ontario  2020-08-29   \n",
       "179105                   🇨🇦 Canada  2020-08-29   \n",
       "179106               New York City  2020-08-29   \n",
       "179107  Aliwal North, South Africa  2020-08-29   \n",
       "\n",
       "                                                     text  \\\n",
       "0       [smell, scent, hand, sanit, today, someon, pas...   \n",
       "1       [hey, yanke, yankeespr, mlb, made, sens, playe...   \n",
       "2       [dian, wdunlap, realdonaldtrump, trump, never,...   \n",
       "3       [brookbanktv, gift, covid, give, appreci, simp...   \n",
       "4       [juli, media, bulletin, novel, coronavirusupd,...   \n",
       "...                                                   ...   \n",
       "179103  [thank, iamohmai, nomin, wearamask, challeng, ...   \n",
       "179104                          [year, insan, lol, covid]   \n",
       "179105  [ctvnew, power, paint, juan, lucena, tribut, g...   \n",
       "179106  [student, test, posit, covid, major, univers, ...   \n",
       "179107  [stop, see, stop, sabcnew, izindabanew, dailys...   \n",
       "\n",
       "                             hashtags              source_link  \n",
       "0                                  []  https://t.co/QZvYbrOgb0  \n",
       "1                                  []  https://t.co/1QvW0zgyPu  \n",
       "2                           [COVID19]  https://t.co/Jkk8vHWHb3  \n",
       "3                           [COVID19]  https://t.co/Z0pOAlFXcW  \n",
       "4       [CoronaVirusUpdates, COVID19]  https://t.co/MN0EEcsJHh  \n",
       "...                               ...                      ...  \n",
       "179103                    [WearAMask]  https://t.co/IegQDkKudT  \n",
       "179104                      [COVID19]  https://t.co/y48NP0yzgn  \n",
       "179105                             []  https://t.co/wnXbbyoCe2  \n",
       "179106                      [COVID19]  https://t.co/6aNhSiF5gh  \n",
       "179107                             []  https://t.co/ReG8pwZoN7  \n",
       "\n",
       "[179108 rows x 5 columns]"
      ],
      "text/html": "<div>\n<style scoped>\n    .dataframe tbody tr th:only-of-type {\n        vertical-align: middle;\n    }\n\n    .dataframe tbody tr th {\n        vertical-align: top;\n    }\n\n    .dataframe thead th {\n        text-align: right;\n    }\n</style>\n<table border=\"1\" class=\"dataframe\">\n  <thead>\n    <tr style=\"text-align: right;\">\n      <th></th>\n      <th>user_location</th>\n      <th>date</th>\n      <th>text</th>\n      <th>hashtags</th>\n      <th>source_link</th>\n    </tr>\n  </thead>\n  <tbody>\n    <tr>\n      <th>0</th>\n      <td>astroworld</td>\n      <td>2020-07-25</td>\n      <td>[smell, scent, hand, sanit, today, someon, pas...</td>\n      <td>[]</td>\n      <td>https://t.co/QZvYbrOgb0</td>\n    </tr>\n    <tr>\n      <th>1</th>\n      <td>New York, NY</td>\n      <td>2020-07-25</td>\n      <td>[hey, yanke, yankeespr, mlb, made, sens, playe...</td>\n      <td>[]</td>\n      <td>https://t.co/1QvW0zgyPu</td>\n    </tr>\n    <tr>\n      <th>2</th>\n      <td>Pewee Valley, KY</td>\n      <td>2020-07-25</td>\n      <td>[dian, wdunlap, realdonaldtrump, trump, never,...</td>\n      <td>[COVID19]</td>\n      <td>https://t.co/Jkk8vHWHb3</td>\n    </tr>\n    <tr>\n      <th>3</th>\n      <td>Stuck in the Middle</td>\n      <td>2020-07-25</td>\n      <td>[brookbanktv, gift, covid, give, appreci, simp...</td>\n      <td>[COVID19]</td>\n      <td>https://t.co/Z0pOAlFXcW</td>\n    </tr>\n    <tr>\n      <th>4</th>\n      <td>Jammu and Kashmir</td>\n      <td>2020-07-25</td>\n      <td>[juli, media, bulletin, novel, coronavirusupd,...</td>\n      <td>[CoronaVirusUpdates, COVID19]</td>\n      <td>https://t.co/MN0EEcsJHh</td>\n    </tr>\n    <tr>\n      <th>...</th>\n      <td>...</td>\n      <td>...</td>\n      <td>...</td>\n      <td>...</td>\n      <td>...</td>\n    </tr>\n    <tr>\n      <th>179103</th>\n      <td>Ilorin, Nigeria</td>\n      <td>2020-08-29</td>\n      <td>[thank, iamohmai, nomin, wearamask, challeng, ...</td>\n      <td>[WearAMask]</td>\n      <td>https://t.co/IegQDkKudT</td>\n    </tr>\n    <tr>\n      <th>179104</th>\n      <td>Ontario</td>\n      <td>2020-08-29</td>\n      <td>[year, insan, lol, covid]</td>\n      <td>[COVID19]</td>\n      <td>https://t.co/y48NP0yzgn</td>\n    </tr>\n    <tr>\n      <th>179105</th>\n      <td>🇨🇦 Canada</td>\n      <td>2020-08-29</td>\n      <td>[ctvnew, power, paint, juan, lucena, tribut, g...</td>\n      <td>[]</td>\n      <td>https://t.co/wnXbbyoCe2</td>\n    </tr>\n    <tr>\n      <th>179106</th>\n      <td>New York City</td>\n      <td>2020-08-29</td>\n      <td>[student, test, posit, covid, major, univers, ...</td>\n      <td>[COVID19]</td>\n      <td>https://t.co/6aNhSiF5gh</td>\n    </tr>\n    <tr>\n      <th>179107</th>\n      <td>Aliwal North, South Africa</td>\n      <td>2020-08-29</td>\n      <td>[stop, see, stop, sabcnew, izindabanew, dailys...</td>\n      <td>[]</td>\n      <td>https://t.co/ReG8pwZoN7</td>\n    </tr>\n  </tbody>\n</table>\n<p>179108 rows × 5 columns</p>\n</div>"
     },
     "metadata": {},
     "execution_count": 6
    }
   ],
   "source": [
    "df_path = \"../data/clean_df/clean_df.pkl\"\n",
    "\n",
    "df = pd.read_pickle(df_path)\n",
    "df"
   ]
  },
  {
   "source": [
    "# Simple tests with the various apriori algorithms"
   ],
   "cell_type": "markdown",
   "metadata": {}
  },
  {
   "source": [
    "### Test of package 1 - `efficient apriori`"
   ],
   "cell_type": "markdown",
   "metadata": {}
  },
  {
   "cell_type": "code",
   "execution_count": 7,
   "metadata": {},
   "outputs": [],
   "source": [
    "# function to display our results (it's a dictionary, we basically order it by the decr. values)\n",
    "def displayGroup(gr):\n",
    "    print(\"Total groups: \", len(gr))\n",
    "    display({k: v for k, v in sorted(gr.items(), key=lambda item: item[1], reverse=True)})"
   ]
  },
  {
   "cell_type": "code",
   "execution_count": 8,
   "metadata": {},
   "outputs": [
    {
     "output_type": "stream",
     "name": "stdout",
     "text": [
      "Total tweets:  16881\n",
      " > Elapsed time:  5.189152717590332\n"
     ]
    }
   ],
   "source": [
    "day = datetime.date(2020, 7, 25)\n",
    "\n",
    "df_25_jul = df.loc[df['date'] == day]\n",
    "print(\"Total tweets: \", len(df_25_jul)) # 16881 tweets\n",
    "\n",
    "# prepare the input\n",
    "texts_for_apriori = []\n",
    "for t in df_25_jul[\"text\"]:\n",
    "    texts_for_apriori.append(t)\n",
    "\n",
    "# computation of APriori\n",
    "start = time.time()\n",
    "itemsets, rules = eff_apriori(texts_for_apriori, min_support=0.012,  min_confidence=0.8)\n",
    "end = time.time()\n",
    "\n",
    "print(\" > Elapsed time: \", end - start)"
   ]
  },
  {
   "cell_type": "code",
   "execution_count": 9,
   "metadata": {},
   "outputs": [
    {
     "output_type": "stream",
     "name": "stdout",
     "text": [
      "Total groups:  99\n"
     ]
    },
    {
     "output_type": "display_data",
     "data": {
      "text/plain": "{('covid',): 10248,\n ('case',): 1796,\n ('coronaviru',): 1452,\n ('new',): 1228,\n ('amp',): 1036,\n ('test',): 880,\n ('death',): 877,\n ('peopl',): 858,\n ('report',): 751,\n ('pandem',): 750,\n ('mask',): 743,\n ('posit',): 733,\n ('day',): 707,\n ('us',): 614,\n ('get',): 576,\n ('health',): 504,\n ('total',): 499,\n ('help',): 495,\n ('india',): 472,\n ('time',): 464,\n ('juli',): 462,\n ('updat',): 459,\n ('like',): 459,\n ('go',): 456,\n ('today',): 448,\n ('need',): 441,\n ('state',): 399,\n ('say',): 394,\n ('number',): 383,\n ('wear',): 376,\n ('spread',): 367,\n ('countri',): 357,\n ('patient',): 342,\n ('work',): 339,\n ('even',): 334,\n ('trump',): 333,\n ('live',): 329,\n ('last',): 328,\n ('realdonaldtrump',): 327,\n ('hospit',): 326,\n ('make',): 322,\n ('news',): 319,\n ('world',): 315,\n ('year',): 313,\n ('risk',): 312,\n ('via',): 307,\n ('lockdown',): 304,\n ('school',): 300,\n ('govern',): 298,\n ('home',): 298,\n ('back',): 292,\n ('daili',): 291,\n ('mani',): 287,\n ('viru',): 286,\n ('see',): 277,\n ('month',): 276,\n ('th',): 272,\n ('know',): 272,\n ('first',): 267,\n ('use',): 264,\n ('vaccin',): 262,\n ('good',): 258,\n ('look',): 258,\n ('confirm',): 255,\n ('still',): 250,\n ('hour',): 247,\n ('week',): 245,\n ('american',): 243,\n ('due',): 243,\n ('pleas',): 240,\n ('everi',): 240,\n ('infect',): 239,\n ('global',): 239,\n ('call',): 238,\n ('safe',): 235,\n ('read',): 235,\n ('record',): 230,\n ('activ',): 228,\n ('protect',): 227,\n ('thank',): 227,\n ('think',): 226,\n ('keep',): 223,\n ('recov',): 222,\n ('way',): 221,\n ('start',): 220,\n ('corona',): 220,\n ('chang',): 219,\n ('would',): 215,\n ('symptom',): 214,\n ('famili',): 212,\n ('may',): 212,\n ('busi',): 211,\n ('recoveri',): 211,\n ('support',): 209,\n ('could',): 208,\n ('give',): 207,\n ('sinc',): 207,\n ('sign',): 205,\n ('right',): 204}"
     },
     "metadata": {}
    },
    {
     "output_type": "stream",
     "name": "stdout",
     "text": [
      "--- \n\nTotal groups:  50\n"
     ]
    },
    {
     "output_type": "display_data",
     "data": {
      "text/plain": "{('case', 'covid'): 1477,\n ('coronaviru', 'covid'): 1034,\n ('covid', 'new'): 886,\n ('covid', 'test'): 740,\n ('covid', 'death'): 686,\n ('case', 'new'): 655,\n ('covid', 'posit'): 613,\n ('covid', 'report'): 593,\n ('covid', 'pandem'): 519,\n ('amp', 'covid'): 514,\n ('case', 'report'): 494,\n ('covid', 'day'): 478,\n ('covid', 'peopl'): 450,\n ('case', 'death'): 433,\n ('covid', 'mask'): 384,\n ('covid', 'total'): 383,\n ('posit', 'test'): 364,\n ('covid', 'india'): 364,\n ('case', 'total'): 353,\n ('covid', 'updat'): 350,\n ('covid', 'us'): 327,\n ('case', 'coronaviru'): 327,\n ('covid', 'juli'): 325,\n ('covid', 'get'): 317,\n ('covid', 'health'): 301,\n ('covid', 'spread'): 299,\n ('mask', 'wear'): 294,\n ('covid', 'help'): 293,\n ('covid', 'number'): 291,\n ('new', 'report'): 290,\n ('covid', 'patient'): 280,\n ('covid', 'today'): 269,\n ('death', 'new'): 261,\n ('covid', 'time'): 260,\n ('covid', 'state'): 256,\n ('covid', 'last'): 252,\n ('covid', 'like'): 251,\n ('covid', 'even'): 244,\n ('covid', 'risk'): 242,\n ('covid', 'daili'): 239,\n ('covid', 'via'): 236,\n ('coronaviru', 'new'): 236,\n ('case', 'posit'): 233,\n ('countri', 'covid'): 232,\n ('covid', 'need'): 219,\n ('covid', 'hospit'): 214,\n ('case', 'india'): 213,\n ('covid', 'vaccin'): 212,\n ('covid', 'go'): 208,\n ('covid', 'hour'): 203}"
     },
     "metadata": {}
    },
    {
     "output_type": "stream",
     "name": "stdout",
     "text": [
      "--- \n\nTotal groups:  11\n"
     ]
    },
    {
     "output_type": "display_data",
     "data": {
      "text/plain": "{('case', 'covid', 'new'): 545,\n ('case', 'covid', 'report'): 425,\n ('case', 'covid', 'death'): 338,\n ('covid', 'posit', 'test'): 308,\n ('case', 'covid', 'total'): 286,\n ('case', 'new', 'report'): 257,\n ('case', 'coronaviru', 'covid'): 230,\n ('covid', 'new', 'report'): 227,\n ('case', 'covid', 'posit'): 221,\n ('case', 'death', 'new'): 218,\n ('covid', 'death', 'new'): 208}"
     },
     "metadata": {}
    },
    {
     "output_type": "stream",
     "name": "stdout",
     "text": [
      "--- \n\n"
     ]
    }
   ],
   "source": [
    "# save the results in a more convenient way\n",
    "list_of_groups = []\n",
    "for item in itemsets.values():\n",
    "  list_of_groups.append(item)\n",
    "\n",
    "for res in list_of_groups:\n",
    "    displayGroup(res)\n",
    "    print(\"--- \\n\")"
   ]
  },
  {
   "source": [
    "### Test of package 2 - `mlxtend`"
   ],
   "cell_type": "markdown",
   "metadata": {}
  },
  {
   "cell_type": "code",
   "execution_count": 10,
   "metadata": {},
   "outputs": [],
   "source": [
    "day = datetime.date(2020, 7, 25)\n",
    "df_25_jul = df.loc[df['date'] == day]"
   ]
  },
  {
   "cell_type": "code",
   "execution_count": 11,
   "metadata": {},
   "outputs": [
    {
     "output_type": "execute_result",
     "data": {
      "text/plain": [
       "          aa    aaa    aac  aacdiscokaraok  aadhar   aafp  aahataha  aahealth  \\\n",
       "0      False  False  False           False   False  False     False     False   \n",
       "1      False  False  False           False   False  False     False     False   \n",
       "2      False  False  False           False   False  False     False     False   \n",
       "3      False  False  False           False   False  False     False     False   \n",
       "4      False  False  False           False   False  False     False     False   \n",
       "...      ...    ...    ...             ...     ...    ...       ...       ...   \n",
       "16876  False  False  False           False   False  False     False     False   \n",
       "16877  False  False  False           False   False  False     False     False   \n",
       "16878  False  False  False           False   False  False     False     False   \n",
       "16879  False  False  False           False   False  False     False     False   \n",
       "16880  False  False  False           False   False  False     False     False   \n",
       "\n",
       "       aajtak  aakash  ...    𝕥𝕙𝕖   𝕨𝕙𝕒𝕥   𝕪𝕠𝕦𝕣  𝗖𝗢𝗩𝗜𝗗  𝗚𝗹𝗼𝗯𝗮𝗹  𝗡𝗲𝗽𝗮𝗹     𝗦𝗔  \\\n",
       "0       False   False  ...  False  False  False  False   False  False  False   \n",
       "1       False   False  ...  False  False  False  False   False  False  False   \n",
       "2       False   False  ...  False  False  False  False   False  False  False   \n",
       "3       False   False  ...  False  False  False  False   False  False  False   \n",
       "4       False   False  ...  False  False  False  False   False  False  False   \n",
       "...       ...     ...  ...    ...    ...    ...    ...     ...    ...    ...   \n",
       "16876   False   False  ...  False  False  False  False   False  False  False   \n",
       "16877   False   False  ...  False  False  False  False   False  False  False   \n",
       "16878   False   False  ...  False  False  False  False   False  False  False   \n",
       "16879   False   False  ...  False  False  False  False   False  False  False   \n",
       "16880   False   False  ...  False  False  False  False   False  False  False   \n",
       "\n",
       "       𝗦𝘁𝗮𝘁𝘂𝘀  𝗧𝗼𝘁𝗮𝗹  𝗰𝗮𝘀𝗲𝘀  \n",
       "0       False  False  False  \n",
       "1       False  False  False  \n",
       "2       False  False  False  \n",
       "3       False  False  False  \n",
       "4       False  False  False  \n",
       "...       ...    ...    ...  \n",
       "16876   False  False  False  \n",
       "16877   False  False  False  \n",
       "16878   False  False  False  \n",
       "16879   False  False  False  \n",
       "16880   False  False  False  \n",
       "\n",
       "[16881 rows x 21307 columns]"
      ],
      "text/html": "<div>\n<style scoped>\n    .dataframe tbody tr th:only-of-type {\n        vertical-align: middle;\n    }\n\n    .dataframe tbody tr th {\n        vertical-align: top;\n    }\n\n    .dataframe thead th {\n        text-align: right;\n    }\n</style>\n<table border=\"1\" class=\"dataframe\">\n  <thead>\n    <tr style=\"text-align: right;\">\n      <th></th>\n      <th>aa</th>\n      <th>aaa</th>\n      <th>aac</th>\n      <th>aacdiscokaraok</th>\n      <th>aadhar</th>\n      <th>aafp</th>\n      <th>aahataha</th>\n      <th>aahealth</th>\n      <th>aajtak</th>\n      <th>aakash</th>\n      <th>...</th>\n      <th>𝕥𝕙𝕖</th>\n      <th>𝕨𝕙𝕒𝕥</th>\n      <th>𝕪𝕠𝕦𝕣</th>\n      <th>𝗖𝗢𝗩𝗜𝗗</th>\n      <th>𝗚𝗹𝗼𝗯𝗮𝗹</th>\n      <th>𝗡𝗲𝗽𝗮𝗹</th>\n      <th>𝗦𝗔</th>\n      <th>𝗦𝘁𝗮𝘁𝘂𝘀</th>\n      <th>𝗧𝗼𝘁𝗮𝗹</th>\n      <th>𝗰𝗮𝘀𝗲𝘀</th>\n    </tr>\n  </thead>\n  <tbody>\n    <tr>\n      <th>0</th>\n      <td>False</td>\n      <td>False</td>\n      <td>False</td>\n      <td>False</td>\n      <td>False</td>\n      <td>False</td>\n      <td>False</td>\n      <td>False</td>\n      <td>False</td>\n      <td>False</td>\n      <td>...</td>\n      <td>False</td>\n      <td>False</td>\n      <td>False</td>\n      <td>False</td>\n      <td>False</td>\n      <td>False</td>\n      <td>False</td>\n      <td>False</td>\n      <td>False</td>\n      <td>False</td>\n    </tr>\n    <tr>\n      <th>1</th>\n      <td>False</td>\n      <td>False</td>\n      <td>False</td>\n      <td>False</td>\n      <td>False</td>\n      <td>False</td>\n      <td>False</td>\n      <td>False</td>\n      <td>False</td>\n      <td>False</td>\n      <td>...</td>\n      <td>False</td>\n      <td>False</td>\n      <td>False</td>\n      <td>False</td>\n      <td>False</td>\n      <td>False</td>\n      <td>False</td>\n      <td>False</td>\n      <td>False</td>\n      <td>False</td>\n    </tr>\n    <tr>\n      <th>2</th>\n      <td>False</td>\n      <td>False</td>\n      <td>False</td>\n      <td>False</td>\n      <td>False</td>\n      <td>False</td>\n      <td>False</td>\n      <td>False</td>\n      <td>False</td>\n      <td>False</td>\n      <td>...</td>\n      <td>False</td>\n      <td>False</td>\n      <td>False</td>\n      <td>False</td>\n      <td>False</td>\n      <td>False</td>\n      <td>False</td>\n      <td>False</td>\n      <td>False</td>\n      <td>False</td>\n    </tr>\n    <tr>\n      <th>3</th>\n      <td>False</td>\n      <td>False</td>\n      <td>False</td>\n      <td>False</td>\n      <td>False</td>\n      <td>False</td>\n      <td>False</td>\n      <td>False</td>\n      <td>False</td>\n      <td>False</td>\n      <td>...</td>\n      <td>False</td>\n      <td>False</td>\n      <td>False</td>\n      <td>False</td>\n      <td>False</td>\n      <td>False</td>\n      <td>False</td>\n      <td>False</td>\n      <td>False</td>\n      <td>False</td>\n    </tr>\n    <tr>\n      <th>4</th>\n      <td>False</td>\n      <td>False</td>\n      <td>False</td>\n      <td>False</td>\n      <td>False</td>\n      <td>False</td>\n      <td>False</td>\n      <td>False</td>\n      <td>False</td>\n      <td>False</td>\n      <td>...</td>\n      <td>False</td>\n      <td>False</td>\n      <td>False</td>\n      <td>False</td>\n      <td>False</td>\n      <td>False</td>\n      <td>False</td>\n      <td>False</td>\n      <td>False</td>\n      <td>False</td>\n    </tr>\n    <tr>\n      <th>...</th>\n      <td>...</td>\n      <td>...</td>\n      <td>...</td>\n      <td>...</td>\n      <td>...</td>\n      <td>...</td>\n      <td>...</td>\n      <td>...</td>\n      <td>...</td>\n      <td>...</td>\n      <td>...</td>\n      <td>...</td>\n      <td>...</td>\n      <td>...</td>\n      <td>...</td>\n      <td>...</td>\n      <td>...</td>\n      <td>...</td>\n      <td>...</td>\n      <td>...</td>\n      <td>...</td>\n    </tr>\n    <tr>\n      <th>16876</th>\n      <td>False</td>\n      <td>False</td>\n      <td>False</td>\n      <td>False</td>\n      <td>False</td>\n      <td>False</td>\n      <td>False</td>\n      <td>False</td>\n      <td>False</td>\n      <td>False</td>\n      <td>...</td>\n      <td>False</td>\n      <td>False</td>\n      <td>False</td>\n      <td>False</td>\n      <td>False</td>\n      <td>False</td>\n      <td>False</td>\n      <td>False</td>\n      <td>False</td>\n      <td>False</td>\n    </tr>\n    <tr>\n      <th>16877</th>\n      <td>False</td>\n      <td>False</td>\n      <td>False</td>\n      <td>False</td>\n      <td>False</td>\n      <td>False</td>\n      <td>False</td>\n      <td>False</td>\n      <td>False</td>\n      <td>False</td>\n      <td>...</td>\n      <td>False</td>\n      <td>False</td>\n      <td>False</td>\n      <td>False</td>\n      <td>False</td>\n      <td>False</td>\n      <td>False</td>\n      <td>False</td>\n      <td>False</td>\n      <td>False</td>\n    </tr>\n    <tr>\n      <th>16878</th>\n      <td>False</td>\n      <td>False</td>\n      <td>False</td>\n      <td>False</td>\n      <td>False</td>\n      <td>False</td>\n      <td>False</td>\n      <td>False</td>\n      <td>False</td>\n      <td>False</td>\n      <td>...</td>\n      <td>False</td>\n      <td>False</td>\n      <td>False</td>\n      <td>False</td>\n      <td>False</td>\n      <td>False</td>\n      <td>False</td>\n      <td>False</td>\n      <td>False</td>\n      <td>False</td>\n    </tr>\n    <tr>\n      <th>16879</th>\n      <td>False</td>\n      <td>False</td>\n      <td>False</td>\n      <td>False</td>\n      <td>False</td>\n      <td>False</td>\n      <td>False</td>\n      <td>False</td>\n      <td>False</td>\n      <td>False</td>\n      <td>...</td>\n      <td>False</td>\n      <td>False</td>\n      <td>False</td>\n      <td>False</td>\n      <td>False</td>\n      <td>False</td>\n      <td>False</td>\n      <td>False</td>\n      <td>False</td>\n      <td>False</td>\n    </tr>\n    <tr>\n      <th>16880</th>\n      <td>False</td>\n      <td>False</td>\n      <td>False</td>\n      <td>False</td>\n      <td>False</td>\n      <td>False</td>\n      <td>False</td>\n      <td>False</td>\n      <td>False</td>\n      <td>False</td>\n      <td>...</td>\n      <td>False</td>\n      <td>False</td>\n      <td>False</td>\n      <td>False</td>\n      <td>False</td>\n      <td>False</td>\n      <td>False</td>\n      <td>False</td>\n      <td>False</td>\n      <td>False</td>\n    </tr>\n  </tbody>\n</table>\n<p>16881 rows × 21307 columns</p>\n</div>"
     },
     "metadata": {},
     "execution_count": 11
    }
   ],
   "source": [
    "# prepare the input\n",
    "texts_for_apriori = []\n",
    "for t in df_25_jul[\"text\"]:\n",
    "    texts_for_apriori.append(t)\n",
    "\n",
    "te = TransactionEncoder()\n",
    "te_ary = te.fit(texts_for_apriori).transform(texts_for_apriori)\n",
    "df = pd.DataFrame(te_ary, columns=te.columns_)\n",
    "df"
   ]
  },
  {
   "cell_type": "code",
   "execution_count": 12,
   "metadata": {},
   "outputs": [
    {
     "output_type": "stream",
     "name": "stdout",
     "text": [
      " > Elapsed time:  1.610689401626587\n"
     ]
    },
    {
     "output_type": "execute_result",
     "data": {
      "text/plain": [
       "      support              itemsets\n",
       "0    0.013506               (activ)\n",
       "1    0.014395            (american)\n",
       "2    0.061371                 (amp)\n",
       "3    0.017298                (back)\n",
       "4    0.012499                (busi)\n",
       "..        ...                   ...\n",
       "155  0.012914    (case, death, new)\n",
       "156  0.015224   (report, case, new)\n",
       "157  0.012322   (covid, death, new)\n",
       "158  0.013447  (covid, report, new)\n",
       "159  0.018245  (posit, test, covid)\n",
       "\n",
       "[160 rows x 2 columns]"
      ],
      "text/html": "<div>\n<style scoped>\n    .dataframe tbody tr th:only-of-type {\n        vertical-align: middle;\n    }\n\n    .dataframe tbody tr th {\n        vertical-align: top;\n    }\n\n    .dataframe thead th {\n        text-align: right;\n    }\n</style>\n<table border=\"1\" class=\"dataframe\">\n  <thead>\n    <tr style=\"text-align: right;\">\n      <th></th>\n      <th>support</th>\n      <th>itemsets</th>\n    </tr>\n  </thead>\n  <tbody>\n    <tr>\n      <th>0</th>\n      <td>0.013506</td>\n      <td>(activ)</td>\n    </tr>\n    <tr>\n      <th>1</th>\n      <td>0.014395</td>\n      <td>(american)</td>\n    </tr>\n    <tr>\n      <th>2</th>\n      <td>0.061371</td>\n      <td>(amp)</td>\n    </tr>\n    <tr>\n      <th>3</th>\n      <td>0.017298</td>\n      <td>(back)</td>\n    </tr>\n    <tr>\n      <th>4</th>\n      <td>0.012499</td>\n      <td>(busi)</td>\n    </tr>\n    <tr>\n      <th>...</th>\n      <td>...</td>\n      <td>...</td>\n    </tr>\n    <tr>\n      <th>155</th>\n      <td>0.012914</td>\n      <td>(case, death, new)</td>\n    </tr>\n    <tr>\n      <th>156</th>\n      <td>0.015224</td>\n      <td>(report, case, new)</td>\n    </tr>\n    <tr>\n      <th>157</th>\n      <td>0.012322</td>\n      <td>(covid, death, new)</td>\n    </tr>\n    <tr>\n      <th>158</th>\n      <td>0.013447</td>\n      <td>(covid, report, new)</td>\n    </tr>\n    <tr>\n      <th>159</th>\n      <td>0.018245</td>\n      <td>(posit, test, covid)</td>\n    </tr>\n  </tbody>\n</table>\n<p>160 rows × 2 columns</p>\n</div>"
     },
     "metadata": {},
     "execution_count": 12
    }
   ],
   "source": [
    "start = time.time()\n",
    "res = mlxtend_apriori(df, min_support=0.012, use_colnames=True) # note: we cannot set the min_confidence value\n",
    "end = time.time()\n",
    "\n",
    "print(\" > Elapsed time: \", end - start)\n",
    "res"
   ]
  },
  {
   "source": [
    "In this istance, less time is required."
   ],
   "cell_type": "markdown",
   "metadata": {}
  }
 ]
}