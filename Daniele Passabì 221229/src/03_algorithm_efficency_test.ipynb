{
 "metadata": {
  "language_info": {
   "codemirror_mode": {
    "name": "ipython",
    "version": 3
   },
   "file_extension": ".py",
   "mimetype": "text/x-python",
   "name": "python",
   "nbconvert_exporter": "python",
   "pygments_lexer": "ipython3",
   "version": "3.8.5-final"
  },
  "orig_nbformat": 2,
  "kernelspec": {
   "name": "python3",
   "display_name": "Python 3",
   "language": "python"
  }
 },
 "nbformat": 4,
 "nbformat_minor": 2,
 "cells": [
  {
   "source": [
    "# Test of algorithm efficency"
   ],
   "cell_type": "markdown",
   "metadata": {}
  },
  {
   "cell_type": "code",
   "execution_count": 29,
   "metadata": {},
   "outputs": [
    {
     "output_type": "stream",
     "name": "stdout",
     "text": [
      "Libraries imported\n"
     ]
    }
   ],
   "source": [
    "import numpy as np\n",
    "import pandas as pd\n",
    "from apyori import apriori as apriori_baseline\n",
    "import datetime\n",
    "import time\n",
    "from tqdm import tqdm\n",
    "\n",
    "# efficient_apriori\n",
    "from efficient_apriori import apriori as eff_apriori\n",
    "\n",
    "# mlxtend\n",
    "from mlxtend.frequent_patterns import apriori as mlxtend_apriori\n",
    "from mlxtend.preprocessing import TransactionEncoder\n",
    "\n",
    "print(\"Libraries imported\")"
   ]
  },
  {
   "cell_type": "code",
   "execution_count": 30,
   "metadata": {},
   "outputs": [],
   "source": [
    "df = pd.read_pickle(\"../data/clean_df/clean_df.pkl\")"
   ]
  },
  {
   "source": [
    "# Time measurament of baseline and implemented algorithm\n",
    "We run 10 times both the algorithms and compare the score at the end of their executions."
   ],
   "cell_type": "markdown",
   "metadata": {}
  },
  {
   "source": [
    "## Implementation of mlxtend\n",
    "I intended to use this as a baseline... but in reality it has the same results of efficient apriori, while taking less time in the computation"
   ],
   "cell_type": "markdown",
   "metadata": {}
  },
  {
   "cell_type": "code",
   "execution_count": 31,
   "metadata": {},
   "outputs": [
    {
     "output_type": "stream",
     "name": "stderr",
     "text": [
      "100%|██████████| 10/10 [03:27<00:00, 20.76s/it]\n"
     ]
    }
   ],
   "source": [
    "mlxtend_times = []\n",
    "\n",
    "for i in tqdm(range(10)):\n",
    "\n",
    "    start = time.time()\n",
    "\n",
    "    curr_day = datetime.date(2020, 7, 24)  # first day of the data\n",
    "    last_day = datetime.date(2020, 8, 30)  # last day of the data\n",
    "\n",
    "    # iterate on every day of the dataset (until we reach the last one)\n",
    "    while (curr_day <= last_day):\n",
    "\n",
    "        # prepare the list of item of the day\n",
    "        texts_for_apriori = []\n",
    "        for t in df.loc[df['date'] == curr_day][\"text\"]:\n",
    "            texts_for_apriori.append(t)\n",
    "\n",
    "        te = TransactionEncoder()\n",
    "        te_ary = te.fit(texts_for_apriori).transform(texts_for_apriori)\n",
    "        mlxtend_input = pd.DataFrame(te_ary, columns=te.columns_)\n",
    "\n",
    "        # computation of APriori [only if Total tweets > 0]\n",
    "        if len(texts_for_apriori) > 0:\n",
    "            res = mlxtend_apriori(mlxtend_input, min_support=0.012)\n",
    "\n",
    "        # add 1 day and repeat the procedure\n",
    "        curr_day = curr_day + datetime.timedelta(days=1)\n",
    "\n",
    "    end = time.time()\n",
    "    mlxtend_apriori_time = end - start\n",
    "    mlxtend_times.append(mlxtend_apriori_time)"
   ]
  },
  {
   "source": [
    "## Implementation of efficient apriori"
   ],
   "cell_type": "markdown",
   "metadata": {}
  },
  {
   "cell_type": "code",
   "execution_count": 32,
   "metadata": {},
   "outputs": [
    {
     "output_type": "stream",
     "name": "stderr",
     "text": [
      "100%|██████████| 10/10 [10:38<00:00, 63.80s/it]\n"
     ]
    }
   ],
   "source": [
    "eff_apriori_times = []\n",
    "\n",
    "for i in tqdm(range(10)):\n",
    "\n",
    "    start = time.time()\n",
    "\n",
    "    curr_day = datetime.date(2020, 7, 24)  # first day of the data\n",
    "    last_day = datetime.date(2020, 8, 30)  # last day of the data\n",
    "\n",
    "    # iterate on every day of the dataset (until we reach the last one)\n",
    "    while (curr_day <= last_day):\n",
    "\n",
    "        # prepare the list of item of the day\n",
    "        texts_for_apriori = []\n",
    "        for t in df.loc[df['date'] == curr_day][\"text\"]:\n",
    "            texts_for_apriori.append(t)\n",
    "\n",
    "        # computation of APriori [only if Total tweets > 0]\n",
    "        if len(texts_for_apriori) > 0:\n",
    "            res1, res2 = eff_apriori(texts_for_apriori, min_support=0.012,  min_confidence=0.8)\n",
    "\n",
    "        # add 1 day and repeat the procedure\n",
    "        curr_day = curr_day + datetime.timedelta(days=1)\n",
    "\n",
    "    end = time.time()\n",
    "    eff_apriori_time = end - start\n",
    "    eff_apriori_times.append(eff_apriori_time)"
   ]
  },
  {
   "cell_type": "code",
   "execution_count": 34,
   "metadata": {},
   "outputs": [
    {
     "output_type": "execute_result",
     "data": {
      "text/plain": [
       "   eff_apriori_times  mlxtend_times\n",
       "0          63.447370      20.809627\n",
       "1          63.320418      20.751803\n",
       "2          63.164772      20.748259\n",
       "3          63.634666      20.852998\n",
       "4          63.633540      20.732749\n",
       "5          63.416001      20.758522\n",
       "6          64.004702      20.741559\n",
       "7          65.473641      20.738574\n",
       "8          64.172281      20.745498\n",
       "9          63.741084      20.734611"
      ],
      "text/html": "<div>\n<style scoped>\n    .dataframe tbody tr th:only-of-type {\n        vertical-align: middle;\n    }\n\n    .dataframe tbody tr th {\n        vertical-align: top;\n    }\n\n    .dataframe thead th {\n        text-align: right;\n    }\n</style>\n<table border=\"1\" class=\"dataframe\">\n  <thead>\n    <tr style=\"text-align: right;\">\n      <th></th>\n      <th>eff_apriori_times</th>\n      <th>mlxtend_times</th>\n    </tr>\n  </thead>\n  <tbody>\n    <tr>\n      <th>0</th>\n      <td>63.447370</td>\n      <td>20.809627</td>\n    </tr>\n    <tr>\n      <th>1</th>\n      <td>63.320418</td>\n      <td>20.751803</td>\n    </tr>\n    <tr>\n      <th>2</th>\n      <td>63.164772</td>\n      <td>20.748259</td>\n    </tr>\n    <tr>\n      <th>3</th>\n      <td>63.634666</td>\n      <td>20.852998</td>\n    </tr>\n    <tr>\n      <th>4</th>\n      <td>63.633540</td>\n      <td>20.732749</td>\n    </tr>\n    <tr>\n      <th>5</th>\n      <td>63.416001</td>\n      <td>20.758522</td>\n    </tr>\n    <tr>\n      <th>6</th>\n      <td>64.004702</td>\n      <td>20.741559</td>\n    </tr>\n    <tr>\n      <th>7</th>\n      <td>65.473641</td>\n      <td>20.738574</td>\n    </tr>\n    <tr>\n      <th>8</th>\n      <td>64.172281</td>\n      <td>20.745498</td>\n    </tr>\n    <tr>\n      <th>9</th>\n      <td>63.741084</td>\n      <td>20.734611</td>\n    </tr>\n  </tbody>\n</table>\n</div>"
     },
     "metadata": {},
     "execution_count": 34
    }
   ],
   "source": [
    "res_df = pd.DataFrame(\n",
    "    {'eff_apriori_times': eff_apriori_times,\n",
    "     'mlxtend_times': mlxtend_times\n",
    "    })\n",
    "\n",
    "res_df"
   ]
  },
  {
   "cell_type": "code",
   "execution_count": 36,
   "metadata": {},
   "outputs": [
    {
     "output_type": "stream",
     "name": "stdout",
     "text": [
      "Mean eff_apriori_times:  63.8008475780487\nMean mlxtend_times:  20.76141996383667\n"
     ]
    }
   ],
   "source": [
    "print(\"Mean eff_apriori_times: \", sum(eff_apriori_times)/10)\n",
    "print(\"Mean mlxtend_times: \", sum(mlxtend_times)/10)"
   ]
  },
  {
   "source": [
    "## The results are clear: *mlxtend* is a better implementation of APriori"
   ],
   "cell_type": "markdown",
   "metadata": {}
  }
 ]
}