{
 "metadata": {
  "language_info": {
   "codemirror_mode": {
    "name": "ipython",
    "version": 3
   },
   "file_extension": ".py",
   "mimetype": "text/x-python",
   "name": "python",
   "nbconvert_exporter": "python",
   "pygments_lexer": "ipython3",
   "version": "3.8.5-final"
  },
  "orig_nbformat": 2,
  "kernelspec": {
   "name": "python3",
   "display_name": "Python 3",
   "language": "python"
  }
 },
 "nbformat": 4,
 "nbformat_minor": 2,
 "cells": [
  {
   "source": [
    "# Test of algorithm efficency"
   ],
   "cell_type": "markdown",
   "metadata": {}
  },
  {
   "cell_type": "code",
   "execution_count": 1,
   "metadata": {},
   "outputs": [
    {
     "output_type": "stream",
     "name": "stdout",
     "text": [
      "Libraries imported\n"
     ]
    }
   ],
   "source": [
    "import numpy as np\n",
    "import pandas as pd\n",
    "from apyori import apriori as apriori_baseline\n",
    "import datetime\n",
    "import time\n",
    "from tqdm import tqdm\n",
    "\n",
    "# EFFICIENT APRIORI\n",
    "from efficient_apriori import apriori as eff_apriori\n",
    "\n",
    "# MLXTEND APRIORI\n",
    "from mlxtend.frequent_patterns import apriori as mlxtend_apriori\n",
    "from mlxtend.preprocessing import TransactionEncoder\n",
    "\n",
    "print(\"Libraries imported\")"
   ]
  },
  {
   "cell_type": "code",
   "execution_count": 2,
   "metadata": {},
   "outputs": [],
   "source": [
    "df = pd.read_pickle(\"../data/clean_df/clean_df.pkl\")"
   ]
  },
  {
   "source": [
    "# Time measurament of baseline and implemented algorithm\n",
    "We run `n` times both the algorithms and compare the score at the end of their executions."
   ],
   "cell_type": "markdown",
   "metadata": {}
  },
  {
   "cell_type": "code",
   "execution_count": 3,
   "metadata": {},
   "outputs": [],
   "source": [
    "n = 100"
   ]
  },
  {
   "source": [
    "## Implementation of mlxtend\n",
    "I intended to use this as a baseline... but in reality it has the same results of efficient apriori, while taking less time in the computation"
   ],
   "cell_type": "markdown",
   "metadata": {}
  },
  {
   "cell_type": "code",
   "execution_count": 4,
   "metadata": {},
   "outputs": [
    {
     "output_type": "stream",
     "name": "stderr",
     "text": [
      "100%|██████████| 100/100 [34:33<00:00, 20.73s/it]\n"
     ]
    }
   ],
   "source": [
    "mlxtend_times = []\n",
    "\n",
    "for i in tqdm(range(n)):\n",
    "\n",
    "    start = time.time()\n",
    "\n",
    "    curr_day = datetime.date(2020, 7, 24)  # first day of the data\n",
    "    last_day = datetime.date(2020, 8, 30)  # last day of the data\n",
    "\n",
    "    # iterate on every day of the dataset (until we reach the last one)\n",
    "    while (curr_day <= last_day):\n",
    "\n",
    "        # prepare the list of item of the day\n",
    "        texts_for_apriori = []\n",
    "        for t in df.loc[df['date'] == curr_day][\"text\"]:\n",
    "            texts_for_apriori.append(t)\n",
    "\n",
    "        te = TransactionEncoder()\n",
    "        te_ary = te.fit(texts_for_apriori).transform(texts_for_apriori)\n",
    "        mlxtend_input = pd.DataFrame(te_ary, columns=te.columns_)\n",
    "\n",
    "        # computation of APriori [only if Total tweets > 0]\n",
    "        if len(texts_for_apriori) > 0:\n",
    "            res = mlxtend_apriori(mlxtend_input, min_support=0.012)\n",
    "\n",
    "        # add 1 day and repeat the procedure\n",
    "        curr_day = curr_day + datetime.timedelta(days=1)\n",
    "\n",
    "    end = time.time()\n",
    "    mlxtend_apriori_time = end - start\n",
    "    mlxtend_times.append(mlxtend_apriori_time)"
   ]
  },
  {
   "source": [
    "## Implementation of efficient apriori"
   ],
   "cell_type": "markdown",
   "metadata": {}
  },
  {
   "cell_type": "code",
   "execution_count": 5,
   "metadata": {},
   "outputs": [
    {
     "output_type": "stream",
     "name": "stderr",
     "text": [
      "100%|██████████| 100/100 [1:46:11<00:00, 63.72s/it]\n"
     ]
    }
   ],
   "source": [
    "eff_apriori_times = []\n",
    "\n",
    "for i in tqdm(range(n)):\n",
    "\n",
    "    start = time.time()\n",
    "\n",
    "    curr_day = datetime.date(2020, 7, 24)  # first day of the data\n",
    "    last_day = datetime.date(2020, 8, 30)  # last day of the data\n",
    "\n",
    "    # iterate on every day of the dataset (until we reach the last one)\n",
    "    while (curr_day <= last_day):\n",
    "\n",
    "        # prepare the list of item of the day\n",
    "        texts_for_apriori = []\n",
    "        for t in df.loc[df['date'] == curr_day][\"text\"]:\n",
    "            texts_for_apriori.append(t)\n",
    "\n",
    "        # computation of APriori [only if Total tweets > 0]\n",
    "        if len(texts_for_apriori) > 0:\n",
    "            res1, res2 = eff_apriori(texts_for_apriori, min_support=0.012)\n",
    "\n",
    "        # add 1 day and repeat the procedure\n",
    "        curr_day = curr_day + datetime.timedelta(days=1)\n",
    "\n",
    "    end = time.time()\n",
    "    eff_apriori_time = end - start\n",
    "    eff_apriori_times.append(eff_apriori_time)"
   ]
  },
  {
   "cell_type": "code",
   "execution_count": 6,
   "metadata": {},
   "outputs": [
    {
     "output_type": "execute_result",
     "data": {
      "text/plain": [
       "    eff_apriori_times  mlxtend_times\n",
       "0           63.780246      21.111056\n",
       "1           63.704696      20.992171\n",
       "2           63.827229      20.954445\n",
       "3           64.018045      20.916792\n",
       "4           64.135442      20.849082\n",
       "..                ...            ...\n",
       "95          65.233571      20.676677\n",
       "96          66.813680      20.701171\n",
       "97          66.007201      20.714602\n",
       "98          65.957592      20.688023\n",
       "99          66.405533      20.724514\n",
       "\n",
       "[100 rows x 2 columns]"
      ],
      "text/html": "<div>\n<style scoped>\n    .dataframe tbody tr th:only-of-type {\n        vertical-align: middle;\n    }\n\n    .dataframe tbody tr th {\n        vertical-align: top;\n    }\n\n    .dataframe thead th {\n        text-align: right;\n    }\n</style>\n<table border=\"1\" class=\"dataframe\">\n  <thead>\n    <tr style=\"text-align: right;\">\n      <th></th>\n      <th>eff_apriori_times</th>\n      <th>mlxtend_times</th>\n    </tr>\n  </thead>\n  <tbody>\n    <tr>\n      <th>0</th>\n      <td>63.780246</td>\n      <td>21.111056</td>\n    </tr>\n    <tr>\n      <th>1</th>\n      <td>63.704696</td>\n      <td>20.992171</td>\n    </tr>\n    <tr>\n      <th>2</th>\n      <td>63.827229</td>\n      <td>20.954445</td>\n    </tr>\n    <tr>\n      <th>3</th>\n      <td>64.018045</td>\n      <td>20.916792</td>\n    </tr>\n    <tr>\n      <th>4</th>\n      <td>64.135442</td>\n      <td>20.849082</td>\n    </tr>\n    <tr>\n      <th>...</th>\n      <td>...</td>\n      <td>...</td>\n    </tr>\n    <tr>\n      <th>95</th>\n      <td>65.233571</td>\n      <td>20.676677</td>\n    </tr>\n    <tr>\n      <th>96</th>\n      <td>66.813680</td>\n      <td>20.701171</td>\n    </tr>\n    <tr>\n      <th>97</th>\n      <td>66.007201</td>\n      <td>20.714602</td>\n    </tr>\n    <tr>\n      <th>98</th>\n      <td>65.957592</td>\n      <td>20.688023</td>\n    </tr>\n    <tr>\n      <th>99</th>\n      <td>66.405533</td>\n      <td>20.724514</td>\n    </tr>\n  </tbody>\n</table>\n<p>100 rows × 2 columns</p>\n</div>"
     },
     "metadata": {},
     "execution_count": 6
    }
   ],
   "source": [
    "res_df = pd.DataFrame(\n",
    "    {'eff_apriori_times': eff_apriori_times,\n",
    "     'mlxtend_times': mlxtend_times\n",
    "    })\n",
    "\n",
    "res_df"
   ]
  },
  {
   "cell_type": "code",
   "execution_count": 8,
   "metadata": {},
   "outputs": [
    {
     "output_type": "stream",
     "name": "stdout",
     "text": [
      "Mean eff_apriori_times:  63.71553538799286\nMean mlxtend_times:  20.733588185310364\n"
     ]
    }
   ],
   "source": [
    "print(\"Mean eff_apriori_times: \", sum(eff_apriori_times)/n)\n",
    "print(\"Mean mlxtend_times: \", sum(mlxtend_times)/n)"
   ]
  },
  {
   "source": [
    "## The results are clear: *mlxtend* is a better implementation of APriori"
   ],
   "cell_type": "markdown",
   "metadata": {}
  }
 ]
}